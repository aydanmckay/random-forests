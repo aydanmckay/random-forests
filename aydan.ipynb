{
 "cells": [
  {
   "cell_type": "code",
   "execution_count": 1,
   "id": "1c622ad3-b910-4f32-a6d0-f3242683e676",
   "metadata": {},
   "outputs": [],
   "source": [
    "from astropy.io import fits\n",
    "import numpy as np\n",
    "import matplotlib.pyplot as plt\n",
    "from sklearn.ensemble import RandomForestRegressor\n",
    "import pickle\n",
    "import sklearn.model_selection as skmos"
   ]
  },
  {
   "cell_type": "code",
   "execution_count": 2,
   "id": "f77941b4-4abc-4700-9a6b-2839e6dd2d52",
   "metadata": {
    "tags": []
   },
   "outputs": [
    {
     "name": "stdout",
     "output_type": "stream",
     "text": [
      "CPU times: user 2.96 ms, sys: 5.94 ms, total: 8.9 ms\n",
      "Wall time: 5.87 ms\n"
     ]
    }
   ],
   "source": [
    "%%time\n",
    "# hdu = fits.open('bp_rp_apogee.fits')\n",
    "hdu = fits.open('bp_rp_lamost.fits')\n",
    "# data = hdu[1].data"
   ]
  },
  {
   "cell_type": "code",
   "execution_count": 3,
   "id": "7c63fec1-a033-49cc-8bee-d52d3e657f24",
   "metadata": {},
   "outputs": [],
   "source": [
    "data = hdu[1].data"
   ]
  },
  {
   "cell_type": "code",
   "execution_count": 4,
   "id": "e9db039b-55eb-41d5-9720-40d5adc2b859",
   "metadata": {},
   "outputs": [
    {
     "data": {
      "text/plain": [
       "5283562"
      ]
     },
     "execution_count": 4,
     "metadata": {},
     "output_type": "execute_result"
    }
   ],
   "source": [
    "len(data['feh'])"
   ]
  },
  {
   "cell_type": "code",
   "execution_count": 5,
   "id": "0ae4b66e-5304-4624-82a8-18fe51effea1",
   "metadata": {
    "tags": []
   },
   "outputs": [
    {
     "data": {
      "text/plain": [
       "228"
      ]
     },
     "execution_count": 5,
     "metadata": {},
     "output_type": "execute_result"
    }
   ],
   "source": [
    "len(data.names)"
   ]
  },
  {
   "cell_type": "code",
   "execution_count": 6,
   "id": "d813bc1b-8cb5-4d4d-9ce0-fadb175c0f81",
   "metadata": {},
   "outputs": [
    {
     "name": "stdout",
     "output_type": "stream",
     "text": [
      "Creating vectors...\n",
      "VEC & EVEC made.\n"
     ]
    }
   ],
   "source": [
    "print('Creating vectors...')\n",
    "# VEC = np.array(\n",
    "#     [(data['bp_%d' % i] / 10**(8.5 - data['gaiaedr3_phot_g_mean_mag'] / 2.5))\n",
    "#      for i in range(1, 56)] +\n",
    "#     [(data['rp_%d' % i] / 10**(8.5 - data['gaiaedr3_phot_g_mean_mag'] / 2.5))\n",
    "#      for i in range(1, 56)])\n",
    "VEC = np.array(\n",
    "    [(data['bp_%d' % i] / 10**(8.5 - data['phot_g_mean_mag'] / 2.5))\n",
    "     for i in range(1, 56)] +\n",
    "    [(data['rp_%d' % i] / 10**(8.5 - data['phot_g_mean_mag'] / 2.5))\n",
    "     for i in range(1, 56)])\n",
    "# EVEC = np.array(\n",
    "#     [(data['bpe_%d' % i] / 10**(8.5 - data['gaiaedr3_phot_g_mean_mag'] / 2.5))\n",
    "#      for i in range(1, 56)] +\n",
    "#     [(data['rpe_%d' % i] / 10**(8.5 - data['gaiaedr3_phot_g_mean_mag'] / 2.5))\n",
    "#      for i in range(1, 56)])\n",
    "EVEC = np.array(\n",
    "    [(data['bpe_%d' % i] / 10**(8.5 - data['phot_g_mean_mag'] / 2.5))\n",
    "     for i in range(1, 56)] +\n",
    "    [(data['rpe_%d' % i] / 10**(8.5 - data['phot_g_mean_mag'] / 2.5))\n",
    "     for i in range(1, 56)])\n",
    "print('VEC & EVEC made.')"
   ]
  },
  {
   "cell_type": "code",
   "execution_count": 7,
   "id": "b83b73f3-8226-4205-a9b9-8cc7473fc04b",
   "metadata": {},
   "outputs": [],
   "source": [
    "dataind = (data['ebv'] < .1) & (data['feh'] > -5)\n",
    "dataind.sum()\n",
    "np.random.seed(3232)"
   ]
  },
  {
   "cell_type": "code",
   "execution_count": 8,
   "id": "1be8caa5-5b4e-48a8-abc0-65d08bac98c1",
   "metadata": {
    "jupyter": {
     "source_hidden": true
    },
    "tags": []
   },
   "outputs": [],
   "source": [
    "# if True:\n",
    "#     # dataind = (data['sfd_ebv'] < .1) & (data['fe_h'] > -5)\n",
    "#     dataind = (data['ebv'] < .1) & (data['feh'] > -5)\n",
    "#     dataind.sum()\n",
    "#     rstate = np.random.RandomState(3232)\n",
    "#     rfc = RandomForestRegressor(n_jobs=-1,\n",
    "#                                 random_state=rstate,verbose=1)\n",
    "#     print('Fitting the regressor...')\n",
    "#     rfc.fit(VEC[:, dataind].T, data['feh'][dataind])\n",
    "#     print('Dumping the pickle...')\n",
    "#     with open('rfr_lamost.pkl', 'wb') as fp:\n",
    "#         pickle.dump(rfc, fp)\n",
    "#     print('X-validating...')\n",
    "#     fehpred = skmos.cross_val_predict(rfc, VEC[:, dataind].T, data['fe_h'][dataind])\n",
    "#     print('Plotting...')\n",
    "#     # plt.hist2d(data['fe_h'][dataind],\n",
    "#     #          fehpred,\n",
    "#     #          -4,\n",
    "#     #          1,\n",
    "#     #          -4,\n",
    "#     #          1,\n",
    "#     #          vmaxfrac=.99,\n",
    "#     #          xtitle='feh apo',\n",
    "#     #          ytitle='bprp/feh',\n",
    "#     #          normx='sum')\n",
    "#     plt.scatter(data['fe_h'][dataind],\n",
    "#                 fehpred,\n",
    "#                 # -4,\n",
    "#                 # 1,\n",
    "#                 # -4,\n",
    "#                 # 1,\n",
    "#                 # vmaxfrac=.99,\n",
    "#                 # xtitle='feh apo',\n",
    "#                 # ytitle='bprp/feh',\n",
    "#                 # normx='sum'\n",
    "#                 )\n",
    "#     plt.xlabel('LAMOST Fe/H')\n",
    "#     plt.ylabel('BP-RP FeH')\n",
    "#     plt.xlim(-4,1)\n",
    "#     plt.ylim(-4,1)\n",
    "#     plt.plot([-3.85,.85],[-3.85,.85])\n",
    "#     plt.tight_layout()\n",
    "#     plt.savefig('feh_compar_lamost.pdf')"
   ]
  },
  {
   "cell_type": "code",
   "execution_count": 9,
   "id": "bba157ad-eebe-4e75-9eba-f9b96a6dd928",
   "metadata": {
    "jupyter": {
     "source_hidden": true
    },
    "tags": []
   },
   "outputs": [],
   "source": [
    "# plt.scatter(data['fe_h'][dataind],\n",
    "#          fehpred,\n",
    "#          # -4,\n",
    "#          # 1,\n",
    "#          # -4,\n",
    "#          # 1,\n",
    "#          # vmaxfrac=.99,\n",
    "#          # xtitle='feh apo',\n",
    "#          # ytitle='bprp/feh',\n",
    "#          # normx='sum'\n",
    "#          )\n",
    "# plt.xlabel('APOGEE Fe/H')\n",
    "# plt.ylabel('BP-RP FeH')\n",
    "# plt.xlim(-4,1)\n",
    "# plt.ylim(-4,1)\n",
    "# plt.plot([-3.85,.85],[-3.85,.85])\n",
    "# plt.tight_layout()\n",
    "# plt.savefig('feh_compar.pdf')"
   ]
  },
  {
   "cell_type": "code",
   "execution_count": 1,
   "id": "4d38a6a7-7640-4e74-b2ec-69734d64c7d9",
   "metadata": {},
   "outputs": [],
   "source": [
    "from prfr import ProbabilisticRandomForestRegressor, split_arrays"
   ]
  },
  {
   "cell_type": "code",
   "execution_count": 11,
   "id": "c8a82731-c6ec-4238-991c-e7ed31d5f279",
   "metadata": {
    "tags": []
   },
   "outputs": [
    {
     "data": {
      "text/plain": [
       "(3288880,)"
      ]
     },
     "execution_count": 11,
     "metadata": {},
     "output_type": "execute_result"
    }
   ],
   "source": [
    "x_obs = VEC[:, dataind].T\n",
    "x_err = EVEC[:, dataind].T\n",
    "y_obs = data['feh'][dataind]\n",
    "y_obs.shape"
   ]
  },
  {
   "cell_type": "code",
   "execution_count": 12,
   "id": "ad5aec71-c26e-4443-8f74-85524f9ca527",
   "metadata": {},
   "outputs": [
    {
     "data": {
      "text/plain": [
       "(100000,)"
      ]
     },
     "execution_count": 12,
     "metadata": {},
     "output_type": "execute_result"
    }
   ],
   "source": [
    "subsetidx = np.random.choice(len(x_obs[:]), size=100000, replace=False)\n",
    "sub_x_obs = x_obs[subsetidx][:]\n",
    "sub_x_err = x_err[subsetidx][:]\n",
    "sub_y_obs = y_obs[subsetidx]\n",
    "sub_y_obs.shape"
   ]
  },
  {
   "cell_type": "code",
   "execution_count": 13,
   "id": "c43448e9-3aac-4652-b932-e609467843ea",
   "metadata": {
    "tags": []
   },
   "outputs": [
    {
     "name": "stdout",
     "output_type": "stream",
     "text": [
      "train/dev/test...\n",
      "declaring model...\n",
      "fitting model...\n"
     ]
    },
    {
     "data": {
      "application/vnd.jupyter.widget-view+json": {
       "model_id": "473d9f28fa9a47f5a28814cca15c8251",
       "version_major": 2,
       "version_minor": 0
      },
      "text/plain": [
       "  0%|          | 0/250 [00:00<?, ?it/s]"
      ]
     },
     "metadata": {},
     "output_type": "display_data"
    },
    {
     "name": "stdout",
     "output_type": "stream",
     "text": [
      "fitting the bias for the model...\n"
     ]
    },
    {
     "data": {
      "application/vnd.jupyter.widget-view+json": {
       "model_id": "",
       "version_major": 2,
       "version_minor": 0
      },
      "text/plain": [
       "  0%|          | 0/250 [00:00<?, ?it/s]"
      ]
     },
     "metadata": {},
     "output_type": "display_data"
    },
    {
     "name": "stdout",
     "output_type": "stream",
     "text": [
      "dumping pickle...\n",
      "predicting with the model...\n"
     ]
    },
    {
     "data": {
      "application/vnd.jupyter.widget-view+json": {
       "model_id": "",
       "version_major": 2,
       "version_minor": 0
      },
      "text/plain": [
       "  0%|          | 0/250 [00:00<?, ?it/s]"
      ]
     },
     "metadata": {},
     "output_type": "display_data"
    },
    {
     "name": "stdout",
     "output_type": "stream",
     "text": [
      "(20000, 250)\n"
     ]
    }
   ],
   "source": [
    "print('train/dev/test...')\n",
    "# train_arrays, test_arrays, valid_arrays = split_arrays(x_obs, x_err, y_obs, test_size=0.2, valid_size=0.2)\n",
    "train_arrays, test_arrays, valid_arrays = split_arrays(sub_x_obs, sub_x_err, sub_y_obs, test_size=0.2, valid_size=0.2)\n",
    "x_train, x_err_train, y_train = train_arrays\n",
    "x_test, x_err_test, y_test = test_arrays\n",
    "x_valid, x_err_valid, y_valid = valid_arrays\n",
    "\n",
    "print('declaring model...')\n",
    "model = ProbabilisticRandomForestRegressor(n_estimators=250, n_jobs=-1)\n",
    "print('fitting model...')\n",
    "model.fit(x_train, y_train, eX=x_err_train)\n",
    "# print('calibrating model...')\n",
    "# model.calibrate(x_valid, y_valid, eX=x_err_valid)\n",
    "print('fitting the bias for the model...')\n",
    "model.fit_bias(x_valid, y_valid, eX=x_err_valid)\n",
    "\n",
    "print('dumping pickle...')\n",
    "with open('prfr_lamost.pkl', 'wb') as fp:\n",
    "    pickle.dump(model, fp)\n",
    "\n",
    "print('predicting with the model...')\n",
    "pred = model.predict(x_test, eX=x_err_test)\n",
    "pred_bounds = np.quantile(pred, [0.16, 0.84], axis=1)\n",
    "pred_mean = np.mean(pred, axis=1)\n",
    "\n",
    "print(pred.shape)"
   ]
  },
  {
   "cell_type": "code",
   "execution_count": 28,
   "id": "9e03bb88-e739-443f-b24a-20c6584a8640",
   "metadata": {},
   "outputs": [
    {
     "data": {
      "image/png": "[encoded data removed]",
      "text/plain": [
       "<Figure size 432x288 with 2 Axes>"
      ]
     },
     "metadata": {
      "needs_background": "light"
     },
     "output_type": "display_data"
    }
   ],
   "source": [
    "cm = np.array([abs(predb[1] - predb[0])/2 for predb in pred_bounds.T])\n",
    "# plt.scatter(y_test[cm<.1],pred_mean[cm<.1],s=3,c = cm[cm<.1])\n",
    "plt.scatter(y_test,pred_mean,s=3,c = cm)\n",
    "# plt.text(-3.8,0.5,'avg +/-: '+str(np.round(np.average(cm),2))+' dex')\n",
    "# print(np.average(cm))\n",
    "plt.colorbar()\n",
    "plt.xlabel('LAMOST Fe/H')\n",
    "plt.ylabel('BP-RP FeH')\n",
    "plt.xlim(-4,1)\n",
    "plt.ylim(-4,1)\n",
    "plt.plot([-3.85,.85],[-3.85,.85])\n",
    "plt.tight_layout()\n",
    "plt.savefig('feh_compar_lamost_prob.pdf')"
   ]
  },
  {
   "cell_type": "code",
   "execution_count": 15,
   "id": "a1fffd74-64e2-4e20-b7b0-a2b83ead74cc",
   "metadata": {},
   "outputs": [],
   "source": [
    "# plt.errorbar(y_test,pred_mean,fmt='.')\n",
    "# plt.xlabel('LAMOST Fe/H')\n",
    "# plt.ylabel('BP-RP FeH')\n",
    "# plt.xlim(-4,1)\n",
    "# plt.ylim(-4,1)\n",
    "# plt.plot([-3.85,.85],[-3.85,.85])\n",
    "# plt.tight_layout()\n",
    "# plt.savefig('feh_compar_lamost_prob.pdf')"
   ]
  },
  {
   "cell_type": "code",
   "execution_count": null,
   "id": "be511da5-2591-489a-9b41-08725954cb00",
   "metadata": {},
   "outputs": [],
   "source": []
  }
 ],
 "metadata": {
  "kernelspec": {
   "display_name": "Python 3 (ipykernel)",
   "language": "python",
   "name": "python3"
  },
  "language_info": {
   "codemirror_mode": {
    "name": "ipython",
    "version": 3
   },
   "file_extension": ".py",
   "mimetype": "text/x-python",
   "name": "python",
   "nbconvert_exporter": "python",
   "pygments_lexer": "ipython3",
   "version": "3.9.13"
  }
 },
 "nbformat": 4,
 "nbformat_minor": 5
}
