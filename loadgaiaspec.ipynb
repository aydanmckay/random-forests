{
 "cells": [
  {
   "cell_type": "code",
   "execution_count": 1,
   "id": "ae88c961-7944-4b10-b6c5-f581c2feb88f",
   "metadata": {},
   "outputs": [
    {
     "ename": "RuntimeError",
     "evalue": "Environment variable `GAIA_TOOLS_DATA` is not set. This is required to define where the Gaia data are downloaded to. See the readme: https://github.com/jobovy/gaia_tools#data-files-and-environment-variables for more information.",
     "output_type": "error",
     "traceback": [
      "\u001b[0;31m---------------------------------------------------------------------------\u001b[0m",
      "\u001b[0;31mRuntimeError\u001b[0m                              Traceback (most recent call last)",
      "Input \u001b[0;32mIn [1]\u001b[0m, in \u001b[0;36m<cell line: 1>\u001b[0;34m()\u001b[0m\n\u001b[0;32m----> 1\u001b[0m \u001b[38;5;28;01mimport\u001b[39;00m \u001b[38;5;21;01mgaia_tools\u001b[39;00m\u001b[38;5;21;01m.\u001b[39;00m\u001b[38;5;21;01mload\u001b[39;00m \u001b[38;5;28;01mas\u001b[39;00m \u001b[38;5;21;01mgload\u001b[39;00m\n",
      "File \u001b[0;32m~/gaiahike/gaia_tools/load/__init__.py:20\u001b[0m, in \u001b[0;36m<module>\u001b[0;34m\u001b[0m\n\u001b[1;32m     18\u001b[0m \u001b[38;5;28;01mexcept\u001b[39;00m (\u001b[38;5;167;01mImportError\u001b[39;00m,\u001b[38;5;167;01mRuntimeError\u001b[39;00m): \u001b[38;5;66;03m# RuntimeError if apogee env. not setup\u001b[39;00m\n\u001b[1;32m     19\u001b[0m     _APOGEE_LOADED\u001b[38;5;241m=\u001b[39m \u001b[38;5;28;01mFalse\u001b[39;00m\n\u001b[0;32m---> 20\u001b[0m \u001b[38;5;28;01mfrom\u001b[39;00m \u001b[38;5;21;01mgaia_tools\u001b[39;00m\u001b[38;5;21;01m.\u001b[39;00m\u001b[38;5;21;01mload\u001b[39;00m \u001b[38;5;28;01mimport\u001b[39;00m path, download\n\u001b[1;32m     21\u001b[0m \u001b[38;5;28;01mfrom\u001b[39;00m \u001b[38;5;21;01mgaia_tools\u001b[39;00m\u001b[38;5;21;01m.\u001b[39;00m\u001b[38;5;21;01mutil\u001b[39;00m \u001b[38;5;28;01mimport\u001b[39;00m save_pickles\n\u001b[1;32m     22\u001b[0m \u001b[38;5;28;01mdef\u001b[39;00m \u001b[38;5;21mtwomass\u001b[39m(dr\u001b[38;5;241m=\u001b[39m\u001b[38;5;124m'\u001b[39m\u001b[38;5;124mtgas\u001b[39m\u001b[38;5;124m'\u001b[39m):\n",
      "File \u001b[0;32m~/gaiahike/gaia_tools/load/path.py:6\u001b[0m, in \u001b[0;36m<module>\u001b[0;34m\u001b[0m\n\u001b[1;32m      4\u001b[0m _GAIA_TOOLS_DATA\u001b[38;5;241m=\u001b[39m os\u001b[38;5;241m.\u001b[39mgetenv(\u001b[38;5;124m'\u001b[39m\u001b[38;5;124m/arc/home/aydanmckay/gaiahike/GAIA_TOOLS_DATA\u001b[39m\u001b[38;5;124m'\u001b[39m)\n\u001b[1;32m      5\u001b[0m \u001b[38;5;28;01mif\u001b[39;00m _GAIA_TOOLS_DATA \u001b[38;5;129;01mis\u001b[39;00m \u001b[38;5;28;01mNone\u001b[39;00m:\n\u001b[0;32m----> 6\u001b[0m     \u001b[38;5;28;01mraise\u001b[39;00m \u001b[38;5;167;01mRuntimeError\u001b[39;00m(\n\u001b[1;32m      7\u001b[0m         \u001b[38;5;124m'\u001b[39m\u001b[38;5;124mEnvironment variable `GAIA_TOOLS_DATA` is not set. \u001b[39m\u001b[38;5;124m'\u001b[39m\n\u001b[1;32m      8\u001b[0m         \u001b[38;5;124m'\u001b[39m\u001b[38;5;124mThis is required to define where the Gaia data are downloaded to. \u001b[39m\u001b[38;5;124m'\u001b[39m\n\u001b[1;32m      9\u001b[0m         \u001b[38;5;124m'\u001b[39m\u001b[38;5;124mSee the readme: https://github.com/jobovy/gaia_tools#data-files-and-environment-variables \u001b[39m\u001b[38;5;124m'\u001b[39m\n\u001b[1;32m     10\u001b[0m         \u001b[38;5;124m'\u001b[39m\u001b[38;5;124mfor more information.\u001b[39m\u001b[38;5;124m'\u001b[39m\n\u001b[1;32m     11\u001b[0m     )\n\u001b[1;32m     13\u001b[0m \u001b[38;5;28;01mdef\u001b[39;00m \u001b[38;5;21mtwomassPath\u001b[39m(dr\u001b[38;5;241m=\u001b[39m\u001b[38;5;124m'\u001b[39m\u001b[38;5;124mtgas\u001b[39m\u001b[38;5;124m'\u001b[39m):\n\u001b[1;32m     14\u001b[0m     \u001b[38;5;28;01mreturn\u001b[39;00m os\u001b[38;5;241m.\u001b[39mpath\u001b[38;5;241m.\u001b[39mjoin(_GAIA_TOOLS_DATA,\u001b[38;5;124m'\u001b[39m\u001b[38;5;124mGaia\u001b[39m\u001b[38;5;124m'\u001b[39m,\u001b[38;5;124m'\u001b[39m\u001b[38;5;124mgdr1\u001b[39m\u001b[38;5;124m'\u001b[39m,\u001b[38;5;124m'\u001b[39m\u001b[38;5;124mdstn_match\u001b[39m\u001b[38;5;124m'\u001b[39m,\n\u001b[1;32m     15\u001b[0m                         \u001b[38;5;124m'\u001b[39m\u001b[38;5;124mtgas-matched-2mass.fits.gz\u001b[39m\u001b[38;5;124m'\u001b[39m)\n",
      "\u001b[0;31mRuntimeError\u001b[0m: Environment variable `GAIA_TOOLS_DATA` is not set. This is required to define where the Gaia data are downloaded to. See the readme: https://github.com/jobovy/gaia_tools#data-files-and-environment-variables for more information."
     ]
    }
   ],
   "source": [
    "import gaia_tools.load as gload"
   ]
  },
  {
   "cell_type": "code",
   "execution_count": null,
   "id": "4e539331-279b-43e3-b769-3b872d9c6f63",
   "metadata": {},
   "outputs": [],
   "source": [
    "# from gaia_tools.load.spec import load_rvs_spec, load_xp_sampled_spec\n",
    "\n",
    "# load Gaia DR3 2771993642553377280 xp spectrum\n",
    "wavelength, flux, flux_err = load_xp_sampled_spec(2771993642553377280)\n",
    "\n",
    "# load Gaia DR3 2771993642553377280 rvsspectrum\n",
    "wavelength, flux, flux_err = load_rvs_spec(2771993642553377280)"
   ]
  },
  {
   "cell_type": "code",
   "execution_count": null,
   "id": "a1d1abaa-f589-42ca-b001-546957cf77dd",
   "metadata": {},
   "outputs": [],
   "source": []
  }
 ],
 "metadata": {
  "kernelspec": {
   "display_name": "Python 3 (ipykernel)",
   "language": "python",
   "name": "python3"
  },
  "language_info": {
   "codemirror_mode": {
    "name": "ipython",
    "version": 3
   },
   "file_extension": ".py",
   "mimetype": "text/x-python",
   "name": "python",
   "nbconvert_exporter": "python",
   "pygments_lexer": "ipython3",
   "version": "3.9.13"
  }
 },
 "nbformat": 4,
 "nbformat_minor": 5
}
